{
 "cells": [
  {
   "cell_type": "code",
   "execution_count": null,
   "id": "7dec5d08",
   "metadata": {},
   "outputs": [],
   "source": [
    "!"
   ]
  },
  {
   "cell_type": "code",
   "execution_count": 3,
   "id": "de18c689",
   "metadata": {},
   "outputs": [],
   "source": [
    "from tensorflow.keras.models import load_model\n",
    "import pandas as pd\n",
    "import numpy as np\n",
    "import os"
   ]
  },
  {
   "cell_type": "code",
   "execution_count": 2,
   "id": "7dc99bf8",
   "metadata": {},
   "outputs": [
    {
     "name": "stdout",
     "output_type": "stream",
     "text": [
      "['API_TESTS.ipynb', 'best_lstm_model.keras', 'btc-hourly-price_2015_2025.csv', 'BTC_DOM.csv', 'BTC_DOM.xlsx', 'BTC_FAG.csv', 'BTC_USD_1H_FEAT.csv', 'current_data.csv', 'local_2025.csv', 'local_2025.xlsx', 'LSTMPreprocess.py', 'LSTMStrat.ipynb', 'Model_data_csv', 'Model_data_csv.csv', 'Try.ipynb']\n"
     ]
    }
   ],
   "source": [
    "nan = pd.read_csv('Model_data_csv.csv')\n",
    "print(os.listdir(\".\"))"
   ]
  },
  {
   "cell_type": "code",
   "execution_count": 5,
   "id": "b7102668",
   "metadata": {},
   "outputs": [
    {
     "name": "stdout",
     "output_type": "stream",
     "text": [
      "c:\\Users\\Com\\OneDrive\\Documents\\GitHub\\Crypto_bot\\ModelFile\\LSTM_File\n"
     ]
    }
   ],
   "source": [
    "import os\n",
    "print(os.getcwd())"
   ]
  },
  {
   "cell_type": "code",
   "execution_count": 4,
   "id": "90538195",
   "metadata": {},
   "outputs": [
    {
     "name": "stdout",
     "output_type": "stream",
     "text": [
      "True\n",
      "True\n"
     ]
    }
   ],
   "source": [
    "print(os.path.exists(\"best_lstm_model.keras\"))\n",
    "print(os.path.isfile(\"best_lstm_model.keras\"))"
   ]
  },
  {
   "cell_type": "code",
   "execution_count": 5,
   "id": "9c3e03fd",
   "metadata": {},
   "outputs": [
    {
     "name": "stdout",
     "output_type": "stream",
     "text": [
      "Exists: True\n",
      "Is file: True\n",
      "Is dir: False\n"
     ]
    }
   ],
   "source": [
    "import pathlib\n",
    "\n",
    "path = pathlib.Path(\"best_lstm_model.keras\")\n",
    "print(\"Exists:\", path.exists())\n",
    "print(\"Is file:\", path.is_file())\n",
    "print(\"Is dir:\", path.is_dir())"
   ]
  },
  {
   "cell_type": "code",
   "execution_count": null,
   "id": "e86a3a92",
   "metadata": {},
   "outputs": [],
   "source": [
    "model = load_model(path)"
   ]
  },
  {
   "cell_type": "code",
   "execution_count": 18,
   "id": "709d467a",
   "metadata": {},
   "outputs": [
    {
     "data": {
      "text/plain": [
       "['API_TESTS.ipynb',\n",
       " 'best_lstm_model.h5',\n",
       " 'best_lstm_model.keras',\n",
       " 'best_lstm_model_saved',\n",
       " 'best_lstm_model_saved.zip',\n",
       " 'best_lstm_model_v2.keras',\n",
       " 'btc-hourly-price_2015_2025.csv',\n",
       " 'BTC_DOM.csv',\n",
       " 'BTC_DOM.xlsx',\n",
       " 'BTC_FAG.csv',\n",
       " 'BTC_USD_1H_FEAT.csv',\n",
       " 'current_data.csv',\n",
       " 'local_2025.csv',\n",
       " 'local_2025.xlsx',\n",
       " 'LSTMPreprocess.py',\n",
       " 'LSTMStrat.ipynb',\n",
       " 'Model_data_csv',\n",
       " 'Model_data_csv.csv',\n",
       " 'Try.ipynb']"
      ]
     },
     "execution_count": 18,
     "metadata": {},
     "output_type": "execute_result"
    }
   ],
   "source": [
    "import os\n",
    "os.listdir()"
   ]
  },
  {
   "cell_type": "code",
   "execution_count": 4,
   "id": "c63b0036",
   "metadata": {},
   "outputs": [],
   "source": [
    "# from tensorflow.keras.models import load_model\n",
    "\n",
    "model = load_model(\"best_lstm_model_v2.keras\", compile=False)"
   ]
  },
  {
   "cell_type": "code",
   "execution_count": 37,
   "id": "8565f33c",
   "metadata": {},
   "outputs": [
    {
     "name": "stdout",
     "output_type": "stream",
     "text": [
      "Is file: True\n",
      "Is dir: False\n"
     ]
    }
   ],
   "source": [
    "path = r\"C:\\Users\\Com\\OneDrive\\Documents\\GitHub\\Crypto_bot\\ModelFile\\LSTM_File\\best_lstm_model.keras\"\n",
    "print(\"Is file:\", os.path.isfile(path))\n",
    "print(\"Is dir:\", os.path.isdir(path))"
   ]
  },
  {
   "cell_type": "code",
   "execution_count": null,
   "id": "ca1bb183",
   "metadata": {},
   "outputs": [],
   "source": []
  }
 ],
 "metadata": {
  "kernelspec": {
   "display_name": "krypto_trader",
   "language": "python",
   "name": "python3"
  },
  "language_info": {
   "codemirror_mode": {
    "name": "ipython",
    "version": 3
   },
   "file_extension": ".py",
   "mimetype": "text/x-python",
   "name": "python",
   "nbconvert_exporter": "python",
   "pygments_lexer": "ipython3",
   "version": "3.9.23"
  }
 },
 "nbformat": 4,
 "nbformat_minor": 5
}
